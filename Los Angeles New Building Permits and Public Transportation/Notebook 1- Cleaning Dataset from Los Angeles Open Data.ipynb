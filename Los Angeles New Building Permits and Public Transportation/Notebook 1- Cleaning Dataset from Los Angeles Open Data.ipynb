{
 "cells": [
  {
   "cell_type": "markdown",
   "id": "d2a46a83",
   "metadata": {},
   "source": [
    "In this notebook, we will clean and transform the raw data that we downloaded from the LOS ANGELES OPEN DATA - CITY OF LOS ANGELES site. "
   ]
  },
  {
   "cell_type": "code",
   "execution_count": 1,
   "id": "988b4ccc",
   "metadata": {},
   "outputs": [],
   "source": [
    "import pandas as pd\n",
    "from sodapy import Socrata\n",
    "pd.set_option('display.max_columns', None)\n",
    "import numpy as np\n",
    "pd.set_option('display.float_format', lambda x: '%.5f' % x)"
   ]
  },
  {
   "cell_type": "code",
   "execution_count": 2,
   "id": "a1c77f37",
   "metadata": {},
   "outputs": [],
   "source": [
    "client = Socrata('data.lacity.org',\n",
    "                 'AppToken,\n",
    "                 username='username'\n",
    "                 password='password')\n",
    "\n",
    "# results, returned as JSON from API / converted to Python list of\n",
    "# dictionaries by sodapy.\n",
    "results = client.get_all(\"cpkv-aajs\")"
   ]
  },
  {
   "cell_type": "code",
   "execution_count": 3,
   "id": "126018e2",
   "metadata": {},
   "outputs": [],
   "source": [
    "# Convert to pandas DataFrame\n",
    "results_df = pd.DataFrame.from_records(results)"
   ]
  },
  {
   "cell_type": "code",
   "execution_count": 4,
   "id": "8c7aba23",
   "metadata": {},
   "outputs": [
    {
     "name": "stdout",
     "output_type": "stream",
     "text": [
      "zip_code                                       0\n",
      "address_end                                    0\n",
      "floor_area_l_a_building_code_definition       26\n",
      "work_description                               2\n",
      "reference_old_permit                           8\n",
      "census_tract                                   2\n",
      "permit_category                                0\n",
      "initiating_office                              0\n",
      "assessor_parcel                               34\n",
      "applicant_first_name                         785\n",
      "zone                                          33\n",
      "assessor_book                                 34\n",
      "applicant_address_1                         4776\n",
      "license_type                                   0\n",
      "valuation                                      9\n",
      "of_residential_dwelling_units                  0\n",
      "pcis_permit                                    0\n",
      "address_start                                  0\n",
      "street_name                                    0\n",
      "street_suffix                                323\n",
      "street_direction                             325\n",
      "applicant_address_3                         5118\n",
      "applicant_last_name                         3023\n",
      "license                                        0\n",
      "floor_area_l_a_zoning_code_definition        185\n",
      "issue_date                                     0\n",
      "assessor_page                                 34\n",
      "contractors_business_name                     16\n",
      "tract                                        108\n",
      "lot                                          106\n",
      "permit_sub_type                                0\n",
      "of_stories                                   412\n",
      "permit_type                                    0\n",
      "block                                      18586\n",
      ":@computed_region_qz3q_ghft                 5005\n",
      ":@computed_region_k96s_3jcv                 5007\n",
      "principal_first_name                        8746\n",
      ":@computed_region_kqwf_mjcx                 5005\n",
      ":@computed_region_2dna_qi2s                 6410\n",
      "contractor_state                            9017\n",
      "license_expiration_date                     5876\n",
      ":@computed_region_tatf_ua23                 5005\n",
      "principal_middle_name                      12721\n",
      "contractor_city                             9013\n",
      ":@computed_region_ur2y_g4cx                17025\n",
      "principal_last_name                         8796\n",
      "location_1                                  5005\n",
      "contractor_address                          8797\n",
      "applicant_business_name                    20991\n",
      "applicant_address_2                        17679\n",
      "unit_range_start                           19819\n",
      "address_fraction_end                       20625\n",
      "address_fraction_start                     23106\n",
      "occupancy                                  23231\n",
      "unit_range_end                             22929\n",
      "suffix_direction                           23759\n",
      "project_number                             23682\n",
      "dtype: int64\n"
     ]
    }
   ],
   "source": [
    "# check for nulls\n",
    "print(results_df.isna().sum())\n",
    "\n",
    "# nulls are in rows I will not be using, can proceed"
   ]
  },
  {
   "cell_type": "code",
   "execution_count": 5,
   "id": "fc368f91",
   "metadata": {},
   "outputs": [],
   "source": [
    "# create a copy df to make changes to\n",
    "transformed_df = results_df.copy()\n",
    "# obtain only the relevant columns\n",
    "transformed_df = transformed_df.filter(items =['pcis_permit', 'zipcode', 'work_description', 'census_tract', \n",
    "                              'permit_category', 'initiating_office', 'valuation', 'of_residential_dwelling_units',\n",
    "                              'address_start','street_direction', 'street_name', 'street_suffix',\n",
    "                              'zip_code', 'issue_date', 'permit_sub_type', 'of_stories'])"
   ]
  },
  {
   "cell_type": "code",
   "execution_count": 6,
   "id": "788942cc",
   "metadata": {},
   "outputs": [
    {
     "name": "stdout",
     "output_type": "stream",
     "text": [
      "1260001.5580502378\n"
     ]
    }
   ],
   "source": [
    "# convert valuation to float\n",
    "transformed_df['valuation'] = transformed_df['valuation'].astype('float')\n",
    "\n",
    "average_valuation = transformed_df['valuation'].mean()\n",
    "print(average_valuation)"
   ]
  },
  {
   "cell_type": "code",
   "execution_count": 7,
   "id": "812f2efc",
   "metadata": {},
   "outputs": [
    {
     "name": "stdout",
     "output_type": "stream",
     "text": [
      "<class 'pandas.core.frame.DataFrame'>\n",
      "RangeIndex: 23776 entries, 0 to 23775\n",
      "Data columns (total 18 columns):\n",
      " #   Column                         Non-Null Count  Dtype         \n",
      "---  ------                         --------------  -----         \n",
      " 0   pcis_permit                    23776 non-null  object        \n",
      " 1   work_description               23774 non-null  object        \n",
      " 2   census_tract                   23774 non-null  object        \n",
      " 3   permit_category                23776 non-null  object        \n",
      " 4   initiating_office              23776 non-null  object        \n",
      " 5   valuation                      23767 non-null  float64       \n",
      " 6   of_residential_dwelling_units  23776 non-null  object        \n",
      " 7   address_start                  23776 non-null  object        \n",
      " 8   street_direction               23451 non-null  object        \n",
      " 9   street_name                    23776 non-null  object        \n",
      " 10  street_suffix                  23453 non-null  object        \n",
      " 11  zip_code                       23776 non-null  object        \n",
      " 12  issue_year                     23776 non-null  int64         \n",
      " 13  issue_month                    23776 non-null  int64         \n",
      " 14  issue_day                      23776 non-null  int64         \n",
      " 15  issue_date                     23776 non-null  datetime64[ns]\n",
      " 16  permit_sub_type                23776 non-null  object        \n",
      " 17  of_stories                     23364 non-null  object        \n",
      "dtypes: datetime64[ns](1), float64(1), int64(3), object(13)\n",
      "memory usage: 3.3+ MB\n"
     ]
    },
    {
     "data": {
      "text/plain": [
       "None"
      ]
     },
     "metadata": {},
     "output_type": "display_data"
    },
    {
     "data": {
      "text/html": [
       "<div>\n",
       "<style scoped>\n",
       "    .dataframe tbody tr th:only-of-type {\n",
       "        vertical-align: middle;\n",
       "    }\n",
       "\n",
       "    .dataframe tbody tr th {\n",
       "        vertical-align: top;\n",
       "    }\n",
       "\n",
       "    .dataframe thead th {\n",
       "        text-align: right;\n",
       "    }\n",
       "</style>\n",
       "<table border=\"1\" class=\"dataframe\">\n",
       "  <thead>\n",
       "    <tr style=\"text-align: right;\">\n",
       "      <th></th>\n",
       "      <th>pcis_permit</th>\n",
       "      <th>work_description</th>\n",
       "      <th>census_tract</th>\n",
       "      <th>permit_category</th>\n",
       "      <th>initiating_office</th>\n",
       "      <th>valuation</th>\n",
       "      <th>of_residential_dwelling_units</th>\n",
       "      <th>address_start</th>\n",
       "      <th>street_direction</th>\n",
       "      <th>street_name</th>\n",
       "      <th>street_suffix</th>\n",
       "      <th>zip_code</th>\n",
       "      <th>issue_year</th>\n",
       "      <th>issue_month</th>\n",
       "      <th>issue_day</th>\n",
       "      <th>issue_date</th>\n",
       "      <th>permit_sub_type</th>\n",
       "      <th>of_stories</th>\n",
       "    </tr>\n",
       "  </thead>\n",
       "  <tbody>\n",
       "    <tr>\n",
       "      <th>0</th>\n",
       "      <td>20010-20000-01945</td>\n",
       "      <td>PROPOSED (51'-6\" X 101'-6\") IRREGULAR SHAPED S...</td>\n",
       "      <td>1393.01</td>\n",
       "      <td>Plan Check</td>\n",
       "      <td>VAN NUYS</td>\n",
       "      <td>800000.00000</td>\n",
       "      <td>1</td>\n",
       "      <td>5826</td>\n",
       "      <td>N</td>\n",
       "      <td>MELVIN</td>\n",
       "      <td>AVE</td>\n",
       "      <td>91356</td>\n",
       "      <td>2020</td>\n",
       "      <td>10</td>\n",
       "      <td>29</td>\n",
       "      <td>2020-10-29</td>\n",
       "      <td>1 or 2 Family Dwelling</td>\n",
       "      <td>2</td>\n",
       "    </tr>\n",
       "    <tr>\n",
       "      <th>1</th>\n",
       "      <td>17010-20000-00961</td>\n",
       "      <td>NEW 24'-0\" x 45'-0\" TWO STORY SFD W/ ATTACHED ...</td>\n",
       "      <td>1871.02</td>\n",
       "      <td>Plan Check</td>\n",
       "      <td>VAN NUYS</td>\n",
       "      <td>178000.00000</td>\n",
       "      <td>1</td>\n",
       "      <td>3133</td>\n",
       "      <td>W</td>\n",
       "      <td>LACLEDE</td>\n",
       "      <td>AVE</td>\n",
       "      <td>90039</td>\n",
       "      <td>2018</td>\n",
       "      <td>5</td>\n",
       "      <td>2</td>\n",
       "      <td>2018-05-02</td>\n",
       "      <td>1 or 2 Family Dwelling</td>\n",
       "      <td>2</td>\n",
       "    </tr>\n",
       "    <tr>\n",
       "      <th>2</th>\n",
       "      <td>19010-20000-05164</td>\n",
       "      <td>TWO STORY SFD WITH ATTACHED 3 CAR GARAGE _STAN...</td>\n",
       "      <td>1082.02</td>\n",
       "      <td>Plan Check</td>\n",
       "      <td>VAN NUYS</td>\n",
       "      <td>604000.00000</td>\n",
       "      <td>1</td>\n",
       "      <td>20318</td>\n",
       "      <td>W</td>\n",
       "      <td>WINDSOR</td>\n",
       "      <td>LANE</td>\n",
       "      <td>91326</td>\n",
       "      <td>2020</td>\n",
       "      <td>3</td>\n",
       "      <td>3</td>\n",
       "      <td>2020-03-03</td>\n",
       "      <td>1 or 2 Family Dwelling</td>\n",
       "      <td>2</td>\n",
       "    </tr>\n",
       "    <tr>\n",
       "      <th>3</th>\n",
       "      <td>16010-30000-04199</td>\n",
       "      <td>New SFD with attached garage and recroom.</td>\n",
       "      <td>2721.00</td>\n",
       "      <td>Plan Check</td>\n",
       "      <td>WEST LA</td>\n",
       "      <td>1055000.00000</td>\n",
       "      <td>1</td>\n",
       "      <td>3715</td>\n",
       "      <td>S</td>\n",
       "      <td>WASATCH</td>\n",
       "      <td>AVE</td>\n",
       "      <td>90066</td>\n",
       "      <td>2017</td>\n",
       "      <td>5</td>\n",
       "      <td>22</td>\n",
       "      <td>2017-05-22</td>\n",
       "      <td>1 or 2 Family Dwelling</td>\n",
       "      <td>2</td>\n",
       "    </tr>\n",
       "    <tr>\n",
       "      <th>4</th>\n",
       "      <td>16010-20000-01617</td>\n",
       "      <td>PROPOSED IRR TWO STORY SFD WITH ATTACHED TWO C...</td>\n",
       "      <td>2719.02</td>\n",
       "      <td>Plan Check</td>\n",
       "      <td>VAN NUYS</td>\n",
       "      <td>462000.00000</td>\n",
       "      <td>1</td>\n",
       "      <td>3564</td>\n",
       "      <td>S</td>\n",
       "      <td>GRAND VIEW</td>\n",
       "      <td>BLVD</td>\n",
       "      <td>90066</td>\n",
       "      <td>2017</td>\n",
       "      <td>3</td>\n",
       "      <td>7</td>\n",
       "      <td>2017-03-07</td>\n",
       "      <td>1 or 2 Family Dwelling</td>\n",
       "      <td>2</td>\n",
       "    </tr>\n",
       "  </tbody>\n",
       "</table>\n",
       "</div>"
      ],
      "text/plain": [
       "         pcis_permit                                   work_description  \\\n",
       "0  20010-20000-01945  PROPOSED (51'-6\" X 101'-6\") IRREGULAR SHAPED S...   \n",
       "1  17010-20000-00961  NEW 24'-0\" x 45'-0\" TWO STORY SFD W/ ATTACHED ...   \n",
       "2  19010-20000-05164  TWO STORY SFD WITH ATTACHED 3 CAR GARAGE _STAN...   \n",
       "3  16010-30000-04199          New SFD with attached garage and recroom.   \n",
       "4  16010-20000-01617  PROPOSED IRR TWO STORY SFD WITH ATTACHED TWO C...   \n",
       "\n",
       "  census_tract permit_category initiating_office     valuation  \\\n",
       "0      1393.01      Plan Check          VAN NUYS  800000.00000   \n",
       "1      1871.02      Plan Check          VAN NUYS  178000.00000   \n",
       "2      1082.02      Plan Check          VAN NUYS  604000.00000   \n",
       "3      2721.00      Plan Check           WEST LA 1055000.00000   \n",
       "4      2719.02      Plan Check          VAN NUYS  462000.00000   \n",
       "\n",
       "  of_residential_dwelling_units address_start street_direction street_name  \\\n",
       "0                             1          5826                N      MELVIN   \n",
       "1                             1          3133                W     LACLEDE   \n",
       "2                             1         20318                W     WINDSOR   \n",
       "3                             1          3715                S     WASATCH   \n",
       "4                             1          3564                S  GRAND VIEW   \n",
       "\n",
       "  street_suffix zip_code  issue_year  issue_month  issue_day issue_date  \\\n",
       "0           AVE    91356        2020           10         29 2020-10-29   \n",
       "1           AVE    90039        2018            5          2 2018-05-02   \n",
       "2          LANE    91326        2020            3          3 2020-03-03   \n",
       "3           AVE    90066        2017            5         22 2017-05-22   \n",
       "4          BLVD    90066        2017            3          7 2017-03-07   \n",
       "\n",
       "          permit_sub_type of_stories  \n",
       "0  1 or 2 Family Dwelling          2  \n",
       "1  1 or 2 Family Dwelling          2  \n",
       "2  1 or 2 Family Dwelling          2  \n",
       "3  1 or 2 Family Dwelling          2  \n",
       "4  1 or 2 Family Dwelling          2  "
      ]
     },
     "metadata": {},
     "output_type": "display_data"
    }
   ],
   "source": [
    "# convert issue_date to datetime data type\n",
    "transformed_df['issue_date'] = transformed_df['issue_date'].astype('datetime64')\n",
    "issue_year = transformed_df['issue_date'].dt.year\n",
    "issue_month = transformed_df['issue_date'].dt.month\n",
    "issue_day = transformed_df['issue_date'].dt.day\n",
    "\n",
    "# separate date for easier analysis on the year and month level\n",
    "transformed_df.insert(loc=12, column='issue_year', value=issue_year)\n",
    "transformed_df.insert(loc=13, column='issue_month', value=issue_month)\n",
    "transformed_df.insert(loc=14, column='issue_day', value=issue_day)\n",
    "display(transformed_df.info())\n",
    "display(transformed_df.head())"
   ]
  },
  {
   "cell_type": "markdown",
   "id": "86936119",
   "metadata": {},
   "source": [
    "After cleaning the dataset, I do some exploratory data analysis to see what is inside my dataset."
   ]
  },
  {
   "cell_type": "code",
   "execution_count": 8,
   "id": "676f5c0f",
   "metadata": {},
   "outputs": [
    {
     "name": "stdout",
     "output_type": "stream",
     "text": [
      "2013-01-02 00:00:00 2022-07-08 00:00:00\n"
     ]
    }
   ],
   "source": [
    "earliest_issue = transformed_df['issue_date'].min()\n",
    "latest_issue = transformed_df['issue_date'].max()\n",
    "print(earliest_issue, latest_issue)"
   ]
  },
  {
   "cell_type": "code",
   "execution_count": 9,
   "id": "39b62bb9",
   "metadata": {
    "scrolled": true
   },
   "outputs": [
    {
     "data": {
      "text/plain": [
       "Text(0.5, 1.0, 'Number of New Building Permits in Los Angeles, CA per Year')"
      ]
     },
     "execution_count": 9,
     "metadata": {},
     "output_type": "execute_result"
    },
    {
     "data": {
      "image/png": "[encoded data removed]",
      "text/plain": [
       "<Figure size 432x288 with 1 Axes>"
      ]
     },
     "metadata": {
      "needs_background": "light"
     },
     "output_type": "display_data"
    }
   ],
   "source": [
    "# plot how many permits have been given over time\n",
    "year = transformed_df['issue_year']\n",
    "permits_over_time_plot = sns.countplot(x=year)\n",
    "permits_over_time_plot.set_xlabel(xlabel='Year')\n",
    "permits_over_time_plot.set_ylabel(ylabel='Number of Permits')\n",
    "plt.title(label='Number of New Building Permits in Los Angeles, CA per Year')"
   ]
  },
  {
   "cell_type": "code",
   "execution_count": 10,
   "id": "a92f5e2f",
   "metadata": {},
   "outputs": [
    {
     "data": {
      "text/plain": [
       "Text(0.5, 1.0, 'Number of New Building Permits per Initiating Office')"
      ]
     },
     "execution_count": 10,
     "metadata": {},
     "output_type": "execute_result"
    },
    {
     "data": {
      "image/png": "[encoded data removed]",
      "text/plain": [
       "<Figure size 432x288 with 1 Axes>"
      ]
     },
     "metadata": {
      "needs_background": "light"
     },
     "output_type": "display_data"
    }
   ],
   "source": [
    "# number of permits per office \n",
    "offices = transformed_df['initiating_office']\n",
    "permits_per_office_plot = sns.countplot(x=offices)\n",
    "permits_per_office_plot.set_xlabel(xlabel='Initiating Office')\n",
    "permits_per_office_plot.set_ylabel(ylabel='Number of Permits')\n",
    "plt.title(label='Number of New Building Permits per Initiating Office')"
   ]
  },
  {
   "cell_type": "code",
   "execution_count": 11,
   "id": "97ab2e5a",
   "metadata": {},
   "outputs": [
    {
     "name": "stdout",
     "output_type": "stream",
     "text": [
      "{'VAN NUYS': 10459, 'WEST LA': 2759, 'SOUTH LA': 1598, 'METRO': 8761, 'SANPEDRO': 199}\n"
     ]
    }
   ],
   "source": [
    "# isolate number of permits per office in a dictionary\n",
    "\n",
    "office_names = transformed_df.initiating_office.unique()\n",
    "permits_per_office = {}\n",
    "for office in office_names:\n",
    "    permits_per_office[office] = transformed_df['initiating_office'].value_counts()[office]\n",
    "print(permits_per_office)"
   ]
  },
  {
   "cell_type": "code",
   "execution_count": 12,
   "id": "c6b3f033",
   "metadata": {},
   "outputs": [
    {
     "data": {
      "text/plain": [
       "VAN NUYS    10459\n",
       "METRO        8761\n",
       "WEST LA      2759\n",
       "SOUTH LA     1598\n",
       "SANPEDRO      199\n",
       "Name: initiating_office, dtype: int64"
      ]
     },
     "execution_count": 12,
     "metadata": {},
     "output_type": "execute_result"
    }
   ],
   "source": [
    "# number of permits per office in a df\n",
    "transformed_df['initiating_office'].value_counts()"
   ]
  },
  {
   "cell_type": "code",
   "execution_count": 13,
   "id": "a14e2cca",
   "metadata": {},
   "outputs": [
    {
     "data": {
      "text/plain": [
       "Text(0.5, 1.0, 'Number of New Building Permits per Office per Year')"
      ]
     },
     "execution_count": 13,
     "metadata": {},
     "output_type": "execute_result"
    },
    {
     "data": {
      "image/png": "[encoded data removed]",
      "text/plain": [
       "<Figure size 432x288 with 1 Axes>"
      ]
     },
     "metadata": {
      "needs_background": "light"
     },
     "output_type": "display_data"
    }
   ],
   "source": [
    "# number of permits per office per year \n",
    "permits_per_office_time = sns.countplot(x=offices, hue=year)\n",
    "permits_per_office_time.set_xlabel(xlabel='Initiating Office')\n",
    "permits_per_office_time.set_ylabel(ylabel='Number of Permits')\n",
    "plt.legend(title='Year')\n",
    "plt.title(label='Number of New Building Permits per Office per Year')"
   ]
  },
  {
   "cell_type": "code",
   "execution_count": 14,
   "id": "e8a07b84",
   "metadata": {},
   "outputs": [
    {
     "name": "stdout",
     "output_type": "stream",
     "text": [
      "initiating_office  issue_year\n",
      "METRO              2013           704\n",
      "                   2014           935\n",
      "                   2015           935\n",
      "                   2016           880\n",
      "                   2017          1351\n",
      "                   2018          1018\n",
      "                   2019           981\n",
      "                   2020           610\n",
      "                   2021           729\n",
      "                   2022           618\n",
      "SANPEDRO           2013            11\n",
      "                   2014            11\n",
      "                   2015            14\n",
      "                   2016            36\n",
      "                   2017            42\n",
      "                   2018            32\n",
      "                   2019            29\n",
      "                   2020            20\n",
      "                   2021             3\n",
      "                   2022             1\n",
      "SOUTH LA           2013            92\n",
      "                   2014           127\n",
      "                   2015           181\n",
      "                   2016           205\n",
      "                   2017           221\n",
      "                   2018           259\n",
      "                   2019           264\n",
      "                   2020           199\n",
      "                   2021            38\n",
      "                   2022            12\n",
      "VAN NUYS           2013           736\n",
      "                   2014          1019\n",
      "                   2015          1227\n",
      "                   2016          1168\n",
      "                   2017          1619\n",
      "                   2018          1302\n",
      "                   2019          1156\n",
      "                   2020           861\n",
      "                   2021           939\n",
      "                   2022           432\n",
      "WEST LA            2013           116\n",
      "                   2014           172\n",
      "                   2015           280\n",
      "                   2016           331\n",
      "                   2017           415\n",
      "                   2018           381\n",
      "                   2019           296\n",
      "                   2020           254\n",
      "                   2021           342\n",
      "                   2022           172\n",
      "dtype: int64\n"
     ]
    }
   ],
   "source": [
    "# permits per year per office as a df\n",
    "permits_per_year_per_office = transformed_df.groupby(['initiating_office', 'issue_year']).size()\n",
    "print(permits_per_year_per_office)"
   ]
  },
  {
   "cell_type": "code",
   "execution_count": 15,
   "id": "c04ee6a5",
   "metadata": {},
   "outputs": [
    {
     "name": "stdout",
     "output_type": "stream",
     "text": [
      "zip_code\n",
      "90001    138\n",
      "90002    190\n",
      "90003    607\n",
      "90004    382\n",
      "90005     87\n",
      "        ... \n",
      "91602    280\n",
      "91604    400\n",
      "91605    185\n",
      "91606    314\n",
      "91607    280\n",
      "Length: 115, dtype: int64\n",
      "zip_code  issue_year\n",
      "90001     2013          17\n",
      "          2014          17\n",
      "          2015          14\n",
      "          2016          20\n",
      "          2017          18\n",
      "                        ..\n",
      "91607     2018          20\n",
      "          2019          62\n",
      "          2020          35\n",
      "          2021          15\n",
      "          2022          13\n",
      "Length: 1040, dtype: int64\n"
     ]
    },
    {
     "data": {
      "text/plain": [
       "count    115.00000\n",
       "mean     206.74783\n",
       "std      184.40896\n",
       "min        1.00000\n",
       "25%       74.00000\n",
       "50%      173.00000\n",
       "75%      292.00000\n",
       "max     1327.00000\n",
       "dtype: float64"
      ]
     },
     "execution_count": 15,
     "metadata": {},
     "output_type": "execute_result"
    }
   ],
   "source": [
    "# analyze at the zip code level\n",
    "\n",
    "permits_per_zipcode = transformed_df.groupby('zip_code').size()\n",
    "print(permits_per_zipcode)\n",
    "permits_per_zipcode_per_year = transformed_df.groupby(['zip_code', 'issue_year']).size()\n",
    "print(permits_per_zipcode_per_year)\n"
   ]
  },
  {
   "cell_type": "code",
   "execution_count": 16,
   "id": "bc3de0e6",
   "metadata": {},
   "outputs": [
    {
     "data": {
      "text/plain": [
       "Text(0.5, 1.0, 'Number of New Building Permits by Type')"
      ]
     },
     "execution_count": 16,
     "metadata": {},
     "output_type": "execute_result"
    },
    {
     "data": {
      "image/png": "[encoded data removed]",
      "text/plain": [
       "<Figure size 432x288 with 1 Axes>"
      ]
     },
     "metadata": {
      "needs_background": "light"
     },
     "output_type": "display_data"
    }
   ],
   "source": [
    "# analyze permit sub type\n",
    "permits_sub_type = transformed_df['permit_sub_type']\n",
    "\n",
    "sub_type_plot = sns.countplot(x=permits_sub_type)\n",
    "sub_type_plot.set_xlabel(xlabel='Permit Type')\n",
    "sub_type_plot.set_ylabel(ylabel='Number of Permits')\n",
    "plt.title(label='Number of New Building Permits by Type')"
   ]
  },
  {
   "cell_type": "code",
   "execution_count": 17,
   "id": "9f64df0d",
   "metadata": {},
   "outputs": [
    {
     "data": {
      "text/plain": [
       "Text(0.5, 1.0, 'Number of New Building Permits per Type per Year')"
      ]
     },
     "execution_count": 17,
     "metadata": {},
     "output_type": "execute_result"
    },
    {
     "data": {
      "image/png": "[encoded data removed]",
      "text/plain": [
       "<Figure size 432x288 with 1 Axes>"
      ]
     },
     "metadata": {
      "needs_background": "light"
     },
     "output_type": "display_data"
    }
   ],
   "source": [
    "sub_type_plot_year = sns.countplot(x=permits_sub_type, hue=year)\n",
    "sub_type_plot_year.set_xlabel(xlabel='Permit Type')\n",
    "sub_type_plot_year.set_ylabel(ylabel='Number of Permits')\n",
    "plt.legend()\n",
    "plt.title(label='Number of New Building Permits per Type per Year')"
   ]
  },
  {
   "cell_type": "code",
   "execution_count": 18,
   "id": "f6d19005",
   "metadata": {},
   "outputs": [
    {
     "data": {
      "text/plain": [
       "Text(0.5, 1.0, 'Number of New Building Permits Per Office per Type')"
      ]
     },
     "execution_count": 18,
     "metadata": {},
     "output_type": "execute_result"
    },
    {
     "data": {
      "image/png": "[encoded data removed]",
      "text/plain": [
       "<Figure size 432x288 with 1 Axes>"
      ]
     },
     "metadata": {
      "needs_background": "light"
     },
     "output_type": "display_data"
    }
   ],
   "source": [
    "sub_type_plot_office = sns.countplot(x=offices, hue=permits_sub_type)\n",
    "sub_type_plot_office.set_xlabel(xlabel='Initiating Office')\n",
    "sub_type_plot_office.set_ylabel(ylabel='Number of Permits')\n",
    "plt.legend(title='Permit Type')\n",
    "plt.title(label='Number of New Building Permits Per Office per Type')"
   ]
  },
  {
   "cell_type": "code",
   "execution_count": 19,
   "id": "3539552f",
   "metadata": {},
   "outputs": [
    {
     "name": "stdout",
     "output_type": "stream",
     "text": [
      "initiating_office\n",
      "METRO      2381290.18563\n",
      "SANPEDRO    364503.28854\n",
      "SOUTH LA    307179.86540\n",
      "VAN NUYS    592910.16540\n",
      "WEST LA     843854.61409\n",
      "Name: valuation, dtype: float64\n"
     ]
    },
    {
     "data": {
      "text/plain": [
       "(0.0, 2500000.0)"
      ]
     },
     "execution_count": 19,
     "metadata": {},
     "output_type": "execute_result"
    },
    {
     "data": {
      "image/png": "[encoded data removed]",
      "text/plain": [
       "<Figure size 432x288 with 1 Axes>"
      ]
     },
     "metadata": {
      "needs_background": "light"
     },
     "output_type": "display_data"
    }
   ],
   "source": [
    "# analyze valuations\n",
    "avg_valuation_by_office = transformed_df.groupby('initiating_office').mean()['valuation']\n",
    "print(avg_valuation_by_office)\n",
    "plot = avg_valuation_by_office.plot(kind='bar')\n",
    "plot.set_ylim([0,2500000])\n"
   ]
  },
  {
   "cell_type": "code",
   "execution_count": 20,
   "id": "5934ace2",
   "metadata": {
    "scrolled": true
   },
   "outputs": [
    {
     "name": "stdout",
     "output_type": "stream",
     "text": [
      "                                             mean                \\\n",
      "                                        valuation                 \n",
      "permit_sub_type            1 or 2 Family Dwelling     Apartment   \n",
      "initiating_office zip_code                                        \n",
      "METRO             90001              370381.45000   30000.00000   \n",
      "                  90002              287885.81000 2455645.18000   \n",
      "                  90003              341353.43000 2145583.87000   \n",
      "                  90004              332735.91000 3965369.47000   \n",
      "                  90005              267944.44000 8348437.57000   \n",
      "...                                           ...           ...   \n",
      "WEST LA           91602              327056.09000    7500.00000   \n",
      "                  91604              491251.38000 3225590.00000   \n",
      "                  91605              161000.00000 1866991.00000   \n",
      "                  91606              229162.16000 1270000.00000   \n",
      "                  91607              407973.56000 1600000.00000   \n",
      "\n",
      "                                                          median  \\\n",
      "                                                       valuation   \n",
      "permit_sub_type                Commercial 1 or 2 Family Dwelling   \n",
      "initiating_office zip_code                                         \n",
      "METRO             90001               NaN           385000.00000   \n",
      "                  90002     8988272.50000           360880.00000   \n",
      "                  90003     8419553.00000           385000.00000   \n",
      "                  90004    20310045.33000           348717.00000   \n",
      "                  90005    58367931.27000           200000.00000   \n",
      "...                                   ...                    ...   \n",
      "WEST LA           91602               NaN           205578.00000   \n",
      "                  91604               NaN           450000.00000   \n",
      "                  91605               NaN           160000.00000   \n",
      "                  91606               NaN           215000.00000   \n",
      "                  91607               NaN           250000.00000   \n",
      "\n",
      "                                                         \\\n",
      "                                                          \n",
      "permit_sub_type                Apartment     Commercial   \n",
      "initiating_office zip_code                                \n",
      "METRO             90001      30000.00000            NaN   \n",
      "                  90002    1262400.00000  8988272.50000   \n",
      "                  90003     600000.00000 10188515.00000   \n",
      "                  90004    2000000.00000  8995530.00000   \n",
      "                  90005    5924500.00000 39800000.00000   \n",
      "...                                  ...            ...   \n",
      "WEST LA           91602       7500.00000            NaN   \n",
      "                  91604    3225590.00000            NaN   \n",
      "                  91605    1723982.00000            NaN   \n",
      "                  91606    1800000.00000            NaN   \n",
      "                  91607    1600000.00000            NaN   \n",
      "\n",
      "                                             amax                 \\\n",
      "                                        valuation                  \n",
      "permit_sub_type            1 or 2 Family Dwelling      Apartment   \n",
      "initiating_office zip_code                                         \n",
      "METRO             90001              475000.00000    30000.00000   \n",
      "                  90002              606374.00000 28000000.00000   \n",
      "                  90003              550000.00000 15000000.00000   \n",
      "                  90004              834500.00000 49098000.00000   \n",
      "                  90005              850000.00000 30000000.00000   \n",
      "...                                           ...            ...   \n",
      "WEST LA           91602             1100000.00000    15000.00000   \n",
      "                  91604              950000.00000  4056538.00000   \n",
      "                  91605              320000.00000  4000000.00000   \n",
      "                  91606              370000.00000  2000000.00000   \n",
      "                  91607              850000.00000  1600000.00000   \n",
      "\n",
      "                                            \n",
      "                                            \n",
      "permit_sub_type                 Commercial  \n",
      "initiating_office zip_code                  \n",
      "METRO             90001                NaN  \n",
      "                  90002     16100000.00000  \n",
      "                  90003     12250774.00000  \n",
      "                  90004     65490000.00000  \n",
      "                  90005    216000000.00000  \n",
      "...                                    ...  \n",
      "WEST LA           91602                NaN  \n",
      "                  91604                NaN  \n",
      "                  91605                NaN  \n",
      "                  91606                NaN  \n",
      "                  91607                NaN  \n",
      "\n",
      "[423 rows x 9 columns]\n"
     ]
    }
   ],
   "source": [
    "valuation_pivot = np.round(pd.pivot_table(transformed_df, \n",
    "                                 values=['valuation'], \n",
    "                                 index=['initiating_office', 'zip_code'],\n",
    "                                 columns=['permit_sub_type'], \n",
    "                                 aggfunc=[np.mean, np.median, np.max]), 2)\n",
    "\n",
    "valuation_pivot = valuation_pivot.sort_values(by=['initiating_office', 'zip_code'])\n",
    "print(valuation_pivot)"
   ]
  },
  {
   "cell_type": "code",
   "execution_count": 21,
   "id": "6f0b669b",
   "metadata": {},
   "outputs": [
    {
     "data": {
      "image/png": "[encoded data removed]",
      "text/plain": [
       "<Figure size 432x288 with 1 Axes>"
      ]
     },
     "metadata": {
      "needs_background": "light"
     },
     "output_type": "display_data"
    }
   ],
   "source": [
    "valuation_plot = np.round(pd.pivot_table(transformed_df,\n",
    "                                        values=['valuation'],\n",
    "                                        index=['initiating_office'],\n",
    "                                        columns=['permit_sub_type'],\n",
    "                                        aggfunc=[np.mean]),2).plot.bar()"
   ]
  },
  {
   "cell_type": "code",
   "execution_count": 25,
   "id": "142f5afb",
   "metadata": {},
   "outputs": [],
   "source": [
    "# export to excel to use in further analysis\n",
    "\n",
    "transformed_df.to_excel(r'transformed_city_permit_data.xlsx')"
   ]
  },
  {
   "cell_type": "code",
   "execution_count": 24,
   "id": "e8ec60f9",
   "metadata": {},
   "outputs": [
    {
     "data": {
      "text/html": [
       "<div>\n",
       "<style scoped>\n",
       "    .dataframe tbody tr th:only-of-type {\n",
       "        vertical-align: middle;\n",
       "    }\n",
       "\n",
       "    .dataframe tbody tr th {\n",
       "        vertical-align: top;\n",
       "    }\n",
       "\n",
       "    .dataframe thead th {\n",
       "        text-align: right;\n",
       "    }\n",
       "</style>\n",
       "<table border=\"1\" class=\"dataframe\">\n",
       "  <thead>\n",
       "    <tr style=\"text-align: right;\">\n",
       "      <th></th>\n",
       "      <th>pcis_permit</th>\n",
       "      <th>work_description</th>\n",
       "      <th>census_tract</th>\n",
       "      <th>permit_category</th>\n",
       "      <th>initiating_office</th>\n",
       "      <th>valuation</th>\n",
       "      <th>of_residential_dwelling_units</th>\n",
       "      <th>address_start</th>\n",
       "      <th>street_direction</th>\n",
       "      <th>street_name</th>\n",
       "      <th>street_suffix</th>\n",
       "      <th>zip_code</th>\n",
       "      <th>issue_year</th>\n",
       "      <th>issue_month</th>\n",
       "      <th>issue_day</th>\n",
       "      <th>issue_date</th>\n",
       "      <th>permit_sub_type</th>\n",
       "      <th>of_stories</th>\n",
       "    </tr>\n",
       "  </thead>\n",
       "  <tbody>\n",
       "    <tr>\n",
       "      <th>0</th>\n",
       "      <td>20010-20000-01945</td>\n",
       "      <td>PROPOSED (51'-6\" X 101'-6\") IRREGULAR SHAPED S...</td>\n",
       "      <td>1393.01</td>\n",
       "      <td>Plan Check</td>\n",
       "      <td>VAN NUYS</td>\n",
       "      <td>800000.00000</td>\n",
       "      <td>1</td>\n",
       "      <td>5826</td>\n",
       "      <td>N</td>\n",
       "      <td>MELVIN</td>\n",
       "      <td>AVE</td>\n",
       "      <td>91356</td>\n",
       "      <td>2020</td>\n",
       "      <td>10</td>\n",
       "      <td>29</td>\n",
       "      <td>2020-10-29</td>\n",
       "      <td>1 or 2 Family Dwelling</td>\n",
       "      <td>2</td>\n",
       "    </tr>\n",
       "    <tr>\n",
       "      <th>1</th>\n",
       "      <td>17010-20000-00961</td>\n",
       "      <td>NEW 24'-0\" x 45'-0\" TWO STORY SFD W/ ATTACHED ...</td>\n",
       "      <td>1871.02</td>\n",
       "      <td>Plan Check</td>\n",
       "      <td>VAN NUYS</td>\n",
       "      <td>178000.00000</td>\n",
       "      <td>1</td>\n",
       "      <td>3133</td>\n",
       "      <td>W</td>\n",
       "      <td>LACLEDE</td>\n",
       "      <td>AVE</td>\n",
       "      <td>90039</td>\n",
       "      <td>2018</td>\n",
       "      <td>5</td>\n",
       "      <td>2</td>\n",
       "      <td>2018-05-02</td>\n",
       "      <td>1 or 2 Family Dwelling</td>\n",
       "      <td>2</td>\n",
       "    </tr>\n",
       "    <tr>\n",
       "      <th>2</th>\n",
       "      <td>19010-20000-05164</td>\n",
       "      <td>TWO STORY SFD WITH ATTACHED 3 CAR GARAGE _STAN...</td>\n",
       "      <td>1082.02</td>\n",
       "      <td>Plan Check</td>\n",
       "      <td>VAN NUYS</td>\n",
       "      <td>604000.00000</td>\n",
       "      <td>1</td>\n",
       "      <td>20318</td>\n",
       "      <td>W</td>\n",
       "      <td>WINDSOR</td>\n",
       "      <td>LANE</td>\n",
       "      <td>91326</td>\n",
       "      <td>2020</td>\n",
       "      <td>3</td>\n",
       "      <td>3</td>\n",
       "      <td>2020-03-03</td>\n",
       "      <td>1 or 2 Family Dwelling</td>\n",
       "      <td>2</td>\n",
       "    </tr>\n",
       "    <tr>\n",
       "      <th>3</th>\n",
       "      <td>16010-30000-04199</td>\n",
       "      <td>New SFD with attached garage and recroom.</td>\n",
       "      <td>2721.00</td>\n",
       "      <td>Plan Check</td>\n",
       "      <td>WEST LA</td>\n",
       "      <td>1055000.00000</td>\n",
       "      <td>1</td>\n",
       "      <td>3715</td>\n",
       "      <td>S</td>\n",
       "      <td>WASATCH</td>\n",
       "      <td>AVE</td>\n",
       "      <td>90066</td>\n",
       "      <td>2017</td>\n",
       "      <td>5</td>\n",
       "      <td>22</td>\n",
       "      <td>2017-05-22</td>\n",
       "      <td>1 or 2 Family Dwelling</td>\n",
       "      <td>2</td>\n",
       "    </tr>\n",
       "    <tr>\n",
       "      <th>4</th>\n",
       "      <td>16010-20000-01617</td>\n",
       "      <td>PROPOSED IRR TWO STORY SFD WITH ATTACHED TWO C...</td>\n",
       "      <td>2719.02</td>\n",
       "      <td>Plan Check</td>\n",
       "      <td>VAN NUYS</td>\n",
       "      <td>462000.00000</td>\n",
       "      <td>1</td>\n",
       "      <td>3564</td>\n",
       "      <td>S</td>\n",
       "      <td>GRAND VIEW</td>\n",
       "      <td>BLVD</td>\n",
       "      <td>90066</td>\n",
       "      <td>2017</td>\n",
       "      <td>3</td>\n",
       "      <td>7</td>\n",
       "      <td>2017-03-07</td>\n",
       "      <td>1 or 2 Family Dwelling</td>\n",
       "      <td>2</td>\n",
       "    </tr>\n",
       "  </tbody>\n",
       "</table>\n",
       "</div>"
      ],
      "text/plain": [
       "         pcis_permit                                   work_description  \\\n",
       "0  20010-20000-01945  PROPOSED (51'-6\" X 101'-6\") IRREGULAR SHAPED S...   \n",
       "1  17010-20000-00961  NEW 24'-0\" x 45'-0\" TWO STORY SFD W/ ATTACHED ...   \n",
       "2  19010-20000-05164  TWO STORY SFD WITH ATTACHED 3 CAR GARAGE _STAN...   \n",
       "3  16010-30000-04199          New SFD with attached garage and recroom.   \n",
       "4  16010-20000-01617  PROPOSED IRR TWO STORY SFD WITH ATTACHED TWO C...   \n",
       "\n",
       "  census_tract permit_category initiating_office     valuation  \\\n",
       "0      1393.01      Plan Check          VAN NUYS  800000.00000   \n",
       "1      1871.02      Plan Check          VAN NUYS  178000.00000   \n",
       "2      1082.02      Plan Check          VAN NUYS  604000.00000   \n",
       "3      2721.00      Plan Check           WEST LA 1055000.00000   \n",
       "4      2719.02      Plan Check          VAN NUYS  462000.00000   \n",
       "\n",
       "  of_residential_dwelling_units address_start street_direction street_name  \\\n",
       "0                             1          5826                N      MELVIN   \n",
       "1                             1          3133                W     LACLEDE   \n",
       "2                             1         20318                W     WINDSOR   \n",
       "3                             1          3715                S     WASATCH   \n",
       "4                             1          3564                S  GRAND VIEW   \n",
       "\n",
       "  street_suffix zip_code  issue_year  issue_month  issue_day issue_date  \\\n",
       "0           AVE    91356        2020           10         29 2020-10-29   \n",
       "1           AVE    90039        2018            5          2 2018-05-02   \n",
       "2          LANE    91326        2020            3          3 2020-03-03   \n",
       "3           AVE    90066        2017            5         22 2017-05-22   \n",
       "4          BLVD    90066        2017            3          7 2017-03-07   \n",
       "\n",
       "          permit_sub_type of_stories  \n",
       "0  1 or 2 Family Dwelling          2  \n",
       "1  1 or 2 Family Dwelling          2  \n",
       "2  1 or 2 Family Dwelling          2  \n",
       "3  1 or 2 Family Dwelling          2  \n",
       "4  1 or 2 Family Dwelling          2  "
      ]
     },
     "execution_count": 24,
     "metadata": {},
     "output_type": "execute_result"
    }
   ],
   "source": [
    "transformed_df.head()"
   ]
  }
 ],
 "metadata": {
  "kernelspec": {
   "display_name": "Python 3 (ipykernel)",
   "language": "python",
   "name": "python3"
  },
  "language_info": {
   "codemirror_mode": {
    "name": "ipython",
    "version": 3
   },
   "file_extension": ".py",
   "mimetype": "text/x-python",
   "name": "python",
   "nbconvert_exporter": "python",
   "pygments_lexer": "ipython3",
   "version": "3.9.7"
  }
 },
 "nbformat": 4,
 "nbformat_minor": 5
}
